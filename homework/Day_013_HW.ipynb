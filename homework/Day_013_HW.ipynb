{
 "cells": [
  {
   "cell_type": "markdown",
   "metadata": {
    "collapsed": true
   },
   "source": [
    "# [作業目標]\n",
    "- 使用 Day 12 剛學到的方法, 對較完整的資料生成離散化特徵\n",
    "- 觀察上述離散化特徵, 對於目標值的預測有沒有幫助"
   ]
  },
  {
   "cell_type": "markdown",
   "metadata": {
    "collapsed": true
   },
   "source": [
    "# [作業重點]\n",
    "- 仿照 Day 12 的語法, 將年齡資料 ('DAYS_BIRTH' 除以 365) 離散化\n",
    "- 繪製上述的 \"離散化標籤\" 與目標值 ('TARGET') 的長條圖"
   ]
  },
  {
   "cell_type": "code",
   "execution_count": 139,
   "metadata": {},
   "outputs": [],
   "source": [
    "# 載入需要的套件\n",
    "import os\n",
    "import numpy as np\n",
    "import pandas as pd\n",
    "import matplotlib.pyplot as plt\n",
    "import seaborn as sns \n",
    "%matplotlib inline\n",
    "\n",
    "# 忽略警告訊息\n",
    "import warnings\n",
    "warnings.filterwarnings('ignore')\n",
    "\n",
    "# 設定 data_path\n",
    "dir_data = './data/'"
   ]
  },
  {
   "cell_type": "markdown",
   "metadata": {},
   "source": [
    "### 之前做過的處理"
   ]
  },
  {
   "cell_type": "code",
   "execution_count": 140,
   "metadata": {},
   "outputs": [
    {
     "data": {
      "text/plain": [
       "(307511, 122)"
      ]
     },
     "execution_count": 140,
     "metadata": {},
     "output_type": "execute_result"
    }
   ],
   "source": [
    "# 讀取資料檔\n",
    "f_app_train = os.path.join(dir_data, 'application_train.csv')\n",
    "app_train = pd.read_csv(f_app_train)\n",
    "app_train.shape"
   ]
  },
  {
   "cell_type": "code",
   "execution_count": 141,
   "metadata": {},
   "outputs": [
    {
     "name": "stdout",
     "output_type": "stream",
     "text": [
      "(307511, 122)\n"
     ]
    },
    {
     "data": {
      "text/html": [
       "<div>\n",
       "<style scoped>\n",
       "    .dataframe tbody tr th:only-of-type {\n",
       "        vertical-align: middle;\n",
       "    }\n",
       "\n",
       "    .dataframe tbody tr th {\n",
       "        vertical-align: top;\n",
       "    }\n",
       "\n",
       "    .dataframe thead th {\n",
       "        text-align: right;\n",
       "    }\n",
       "</style>\n",
       "<table border=\"1\" class=\"dataframe\">\n",
       "  <thead>\n",
       "    <tr style=\"text-align: right;\">\n",
       "      <th></th>\n",
       "      <th>SK_ID_CURR</th>\n",
       "      <th>TARGET</th>\n",
       "      <th>NAME_CONTRACT_TYPE</th>\n",
       "      <th>CODE_GENDER</th>\n",
       "      <th>FLAG_OWN_CAR</th>\n",
       "      <th>FLAG_OWN_REALTY</th>\n",
       "      <th>CNT_CHILDREN</th>\n",
       "      <th>AMT_INCOME_TOTAL</th>\n",
       "      <th>AMT_CREDIT</th>\n",
       "      <th>AMT_ANNUITY</th>\n",
       "      <th>...</th>\n",
       "      <th>FLAG_DOCUMENT_18</th>\n",
       "      <th>FLAG_DOCUMENT_19</th>\n",
       "      <th>FLAG_DOCUMENT_20</th>\n",
       "      <th>FLAG_DOCUMENT_21</th>\n",
       "      <th>AMT_REQ_CREDIT_BUREAU_HOUR</th>\n",
       "      <th>AMT_REQ_CREDIT_BUREAU_DAY</th>\n",
       "      <th>AMT_REQ_CREDIT_BUREAU_WEEK</th>\n",
       "      <th>AMT_REQ_CREDIT_BUREAU_MON</th>\n",
       "      <th>AMT_REQ_CREDIT_BUREAU_QRT</th>\n",
       "      <th>AMT_REQ_CREDIT_BUREAU_YEAR</th>\n",
       "    </tr>\n",
       "  </thead>\n",
       "  <tbody>\n",
       "    <tr>\n",
       "      <th>0</th>\n",
       "      <td>100002</td>\n",
       "      <td>1</td>\n",
       "      <td>0</td>\n",
       "      <td>M</td>\n",
       "      <td>0</td>\n",
       "      <td>1</td>\n",
       "      <td>0</td>\n",
       "      <td>202500.0</td>\n",
       "      <td>406597.5</td>\n",
       "      <td>24700.5</td>\n",
       "      <td>...</td>\n",
       "      <td>0</td>\n",
       "      <td>0</td>\n",
       "      <td>0</td>\n",
       "      <td>0</td>\n",
       "      <td>0.0</td>\n",
       "      <td>0.0</td>\n",
       "      <td>0.0</td>\n",
       "      <td>0.0</td>\n",
       "      <td>0.0</td>\n",
       "      <td>1.0</td>\n",
       "    </tr>\n",
       "    <tr>\n",
       "      <th>1</th>\n",
       "      <td>100003</td>\n",
       "      <td>0</td>\n",
       "      <td>0</td>\n",
       "      <td>F</td>\n",
       "      <td>0</td>\n",
       "      <td>0</td>\n",
       "      <td>0</td>\n",
       "      <td>270000.0</td>\n",
       "      <td>1293502.5</td>\n",
       "      <td>35698.5</td>\n",
       "      <td>...</td>\n",
       "      <td>0</td>\n",
       "      <td>0</td>\n",
       "      <td>0</td>\n",
       "      <td>0</td>\n",
       "      <td>0.0</td>\n",
       "      <td>0.0</td>\n",
       "      <td>0.0</td>\n",
       "      <td>0.0</td>\n",
       "      <td>0.0</td>\n",
       "      <td>0.0</td>\n",
       "    </tr>\n",
       "    <tr>\n",
       "      <th>2</th>\n",
       "      <td>100004</td>\n",
       "      <td>0</td>\n",
       "      <td>1</td>\n",
       "      <td>M</td>\n",
       "      <td>1</td>\n",
       "      <td>1</td>\n",
       "      <td>0</td>\n",
       "      <td>67500.0</td>\n",
       "      <td>135000.0</td>\n",
       "      <td>6750.0</td>\n",
       "      <td>...</td>\n",
       "      <td>0</td>\n",
       "      <td>0</td>\n",
       "      <td>0</td>\n",
       "      <td>0</td>\n",
       "      <td>0.0</td>\n",
       "      <td>0.0</td>\n",
       "      <td>0.0</td>\n",
       "      <td>0.0</td>\n",
       "      <td>0.0</td>\n",
       "      <td>0.0</td>\n",
       "    </tr>\n",
       "    <tr>\n",
       "      <th>3</th>\n",
       "      <td>100006</td>\n",
       "      <td>0</td>\n",
       "      <td>0</td>\n",
       "      <td>F</td>\n",
       "      <td>0</td>\n",
       "      <td>1</td>\n",
       "      <td>0</td>\n",
       "      <td>135000.0</td>\n",
       "      <td>312682.5</td>\n",
       "      <td>29686.5</td>\n",
       "      <td>...</td>\n",
       "      <td>0</td>\n",
       "      <td>0</td>\n",
       "      <td>0</td>\n",
       "      <td>0</td>\n",
       "      <td>NaN</td>\n",
       "      <td>NaN</td>\n",
       "      <td>NaN</td>\n",
       "      <td>NaN</td>\n",
       "      <td>NaN</td>\n",
       "      <td>NaN</td>\n",
       "    </tr>\n",
       "    <tr>\n",
       "      <th>4</th>\n",
       "      <td>100007</td>\n",
       "      <td>0</td>\n",
       "      <td>0</td>\n",
       "      <td>M</td>\n",
       "      <td>0</td>\n",
       "      <td>1</td>\n",
       "      <td>0</td>\n",
       "      <td>121500.0</td>\n",
       "      <td>513000.0</td>\n",
       "      <td>21865.5</td>\n",
       "      <td>...</td>\n",
       "      <td>0</td>\n",
       "      <td>0</td>\n",
       "      <td>0</td>\n",
       "      <td>0</td>\n",
       "      <td>0.0</td>\n",
       "      <td>0.0</td>\n",
       "      <td>0.0</td>\n",
       "      <td>0.0</td>\n",
       "      <td>0.0</td>\n",
       "      <td>0.0</td>\n",
       "    </tr>\n",
       "  </tbody>\n",
       "</table>\n",
       "<p>5 rows × 122 columns</p>\n",
       "</div>"
      ],
      "text/plain": [
       "   SK_ID_CURR  TARGET  NAME_CONTRACT_TYPE CODE_GENDER  FLAG_OWN_CAR  \\\n",
       "0      100002       1                   0           M             0   \n",
       "1      100003       0                   0           F             0   \n",
       "2      100004       0                   1           M             1   \n",
       "3      100006       0                   0           F             0   \n",
       "4      100007       0                   0           M             0   \n",
       "\n",
       "   FLAG_OWN_REALTY  CNT_CHILDREN  AMT_INCOME_TOTAL  AMT_CREDIT  AMT_ANNUITY  \\\n",
       "0                1             0          202500.0    406597.5      24700.5   \n",
       "1                0             0          270000.0   1293502.5      35698.5   \n",
       "2                1             0           67500.0    135000.0       6750.0   \n",
       "3                1             0          135000.0    312682.5      29686.5   \n",
       "4                1             0          121500.0    513000.0      21865.5   \n",
       "\n",
       "              ...              FLAG_DOCUMENT_18 FLAG_DOCUMENT_19  \\\n",
       "0             ...                             0                0   \n",
       "1             ...                             0                0   \n",
       "2             ...                             0                0   \n",
       "3             ...                             0                0   \n",
       "4             ...                             0                0   \n",
       "\n",
       "  FLAG_DOCUMENT_20 FLAG_DOCUMENT_21 AMT_REQ_CREDIT_BUREAU_HOUR  \\\n",
       "0                0                0                        0.0   \n",
       "1                0                0                        0.0   \n",
       "2                0                0                        0.0   \n",
       "3                0                0                        NaN   \n",
       "4                0                0                        0.0   \n",
       "\n",
       "  AMT_REQ_CREDIT_BUREAU_DAY  AMT_REQ_CREDIT_BUREAU_WEEK  \\\n",
       "0                       0.0                         0.0   \n",
       "1                       0.0                         0.0   \n",
       "2                       0.0                         0.0   \n",
       "3                       NaN                         NaN   \n",
       "4                       0.0                         0.0   \n",
       "\n",
       "   AMT_REQ_CREDIT_BUREAU_MON  AMT_REQ_CREDIT_BUREAU_QRT  \\\n",
       "0                        0.0                        0.0   \n",
       "1                        0.0                        0.0   \n",
       "2                        0.0                        0.0   \n",
       "3                        NaN                        NaN   \n",
       "4                        0.0                        0.0   \n",
       "\n",
       "   AMT_REQ_CREDIT_BUREAU_YEAR  \n",
       "0                         1.0  \n",
       "1                         0.0  \n",
       "2                         0.0  \n",
       "3                         NaN  \n",
       "4                         0.0  \n",
       "\n",
       "[5 rows x 122 columns]"
      ]
     },
     "execution_count": 141,
     "metadata": {},
     "output_type": "execute_result"
    }
   ],
   "source": [
    "# 將只有兩種值的類別型欄位, 做 Label Encoder, 計算相關係數時讓這些欄位可以被包含在內\n",
    "from sklearn.preprocessing import LabelEncoder\n",
    "le = LabelEncoder()\n",
    "\n",
    "# 檢查每一個 column\n",
    "for col in app_train:\n",
    "    if app_train[col].dtype == 'object':\n",
    "        # 如果只有兩種值的類別型欄位\n",
    "        if len(list(app_train[col].unique())) <= 2:\n",
    "            # 就做 Label Encoder, 以加入相關係數檢查\n",
    "            app_train[col] = le.fit_transform(app_train[col])            \n",
    "print(app_train.shape)\n",
    "app_train.head()"
   ]
  },
  {
   "cell_type": "code",
   "execution_count": 142,
   "metadata": {},
   "outputs": [
    {
     "name": "stdout",
     "output_type": "stream",
     "text": [
      "37.668493    43\n",
      "36.934247    42\n",
      "49.994521    41\n",
      "27.452055    41\n",
      "28.197260    40\n",
      "43.208219    40\n",
      "39.438356    39\n",
      "39.087671    39\n",
      "31.956164    39\n",
      "36.336986    39\n",
      "40.523288    38\n",
      "41.210959    38\n",
      "37.216438    38\n",
      "37.353425    38\n",
      "37.775342    38\n",
      "42.643836    38\n",
      "36.931507    38\n",
      "38.057534    38\n",
      "40.794521    37\n",
      "35.084932    37\n",
      "40.520548    37\n",
      "27.923288    37\n",
      "27.769863    37\n",
      "36.210959    37\n",
      "39.112329    37\n",
      "30.432877    37\n",
      "54.997260    37\n",
      "42.638356    37\n",
      "27.690411    37\n",
      "40.457534    37\n",
      "             ..\n",
      "68.273973     1\n",
      "68.419178     1\n",
      "68.849315     1\n",
      "21.736986     1\n",
      "68.539726     1\n",
      "68.706849     1\n",
      "68.156164     1\n",
      "68.975342     1\n",
      "68.939726     1\n",
      "68.616438     1\n",
      "68.726027     1\n",
      "67.356164     1\n",
      "68.213699     1\n",
      "68.109589     1\n",
      "65.358904     1\n",
      "69.016438     1\n",
      "21.909589     1\n",
      "68.841096     1\n",
      "66.443836     1\n",
      "68.164384     1\n",
      "68.789041     1\n",
      "68.764384     1\n",
      "21.619178     1\n",
      "68.624658     1\n",
      "66.939726     1\n",
      "68.416438     1\n",
      "68.942466     1\n",
      "21.408219     1\n",
      "68.808219     1\n",
      "68.580822     1\n",
      "Name: DAYS_BIRTH, Length: 17460, dtype: int64\n",
      "69.12054794520547\n",
      "20.517808219178082\n"
     ]
    }
   ],
   "source": [
    "# 受雇日數為異常值的資料, 另外設一個欄位記錄, 並將異常的日數轉成空值 (np.nan)\n",
    "app_train['DAYS_EMPLOYED_ANOM'] = app_train[\"DAYS_EMPLOYED\"] == 365243\n",
    "app_train['DAYS_EMPLOYED'].replace({365243: np.nan}, inplace = True)\n",
    "\n",
    "# 出生日數 (DAYS_BIRTH) 取絕對值 \n",
    "app_train['DAYS_BIRTH'] = abs(app_train['DAYS_BIRTH']) / 365\n",
    "print(app_train['DAYS_BIRTH'].value_counts())\n",
    "print(app_train['DAYS_BIRTH'].max())\n",
    "print(app_train['DAYS_BIRTH'].min())"
   ]
  },
  {
   "cell_type": "markdown",
   "metadata": {},
   "source": [
    "## 練習時間\n",
    "參考 Day 12 範例程式，離散化你覺得有興趣的欄位，並嘗試找出有趣的訊息"
   ]
  },
  {
   "cell_type": "code",
   "execution_count": 143,
   "metadata": {},
   "outputs": [
    {
     "data": {
      "text/plain": [
       "0    1.745205\n",
       "1    3.254795\n",
       "2    0.616438\n",
       "3    8.326027\n",
       "4    8.323288\n",
       "Name: YEAS_EMPLOYED, dtype: float64"
      ]
     },
     "execution_count": 143,
     "metadata": {},
     "output_type": "execute_result"
    }
   ],
   "source": [
    "#受雇日數與還款能力\n",
    "app_train['YEAS_EMPLOYED'] = abs(app_train['DAYS_EMPLOYED'] / 365)\n",
    "app_train['YEAS_EMPLOYED'].head()"
   ]
  },
  {
   "cell_type": "code",
   "execution_count": 144,
   "metadata": {},
   "outputs": [
    {
     "data": {
      "text/plain": [
       "0    -637.0\n",
       "1   -1188.0\n",
       "2    -225.0\n",
       "3   -3039.0\n",
       "4   -3038.0\n",
       "Name: DAYS_EMPLOYED, dtype: float64"
      ]
     },
     "execution_count": 144,
     "metadata": {},
     "output_type": "execute_result"
    }
   ],
   "source": [
    "app_train['DAYS_EMPLOYED'].head()"
   ]
  },
  {
   "cell_type": "code",
   "execution_count": 145,
   "metadata": {},
   "outputs": [
    {
     "name": "stdout",
     "output_type": "stream",
     "text": [
      "        TARGET  YEAS_EMPLOYED\n",
      "0            1       1.745205\n",
      "1            0       3.254795\n",
      "2            0       0.616438\n",
      "3            0       8.326027\n",
      "4            0       8.323288\n",
      "5            0       4.350685\n",
      "6            0       8.575342\n",
      "7            0       1.230137\n",
      "8            0            NaN\n",
      "9            0       5.531507\n",
      "10           0       1.860274\n",
      "11           0            NaN\n",
      "12           0       7.443836\n",
      "13           0       8.295890\n",
      "14           0       0.556164\n",
      "15           0       3.169863\n",
      "16           0       3.608219\n",
      "17           0       0.523288\n",
      "18           0      21.380822\n",
      "19           0       5.583562\n",
      "20           0      11.742466\n",
      "21           0       4.526027\n",
      "22           0      11.797260\n",
      "23           0            NaN\n",
      "24           0       2.043836\n",
      "25           0       9.572603\n",
      "26           1       7.200000\n",
      "27           0       3.380822\n",
      "28           0       4.920548\n",
      "29           0       2.767123\n",
      "...        ...            ...\n",
      "307481       1       8.621918\n",
      "307482       0       0.619178\n",
      "307483       0            NaN\n",
      "307484       0       0.898630\n",
      "307485       0       1.835616\n",
      "307486       0       3.246575\n",
      "307487       0            NaN\n",
      "307488       0       3.336986\n",
      "307489       1       0.783562\n",
      "307490       0       5.282192\n",
      "307491       0       5.350685\n",
      "307492       0       4.432877\n",
      "307493       0       6.317808\n",
      "307494       0      18.008219\n",
      "307495       0      20.378082\n",
      "307496       0       5.967123\n",
      "307497       0       3.347945\n",
      "307498       0      10.106849\n",
      "307499       0      23.819178\n",
      "307500       0      14.591781\n",
      "307501       0       2.865753\n",
      "307502       0      23.934247\n",
      "307503       0       1.093151\n",
      "307504       0      19.884932\n",
      "307505       0            NaN\n",
      "307506       0       0.646575\n",
      "307507       0            NaN\n",
      "307508       0      21.701370\n",
      "307509       1      13.112329\n",
      "307510       0       3.457534\n",
      "\n",
      "[307511 rows x 2 columns]\n"
     ]
    }
   ],
   "source": [
    "employed_data = app_train[['TARGET', 'YEAS_EMPLOYED']]\n",
    "print(employed_data)"
   ]
  },
  {
   "cell_type": "code",
   "execution_count": 146,
   "metadata": {},
   "outputs": [
    {
     "name": "stdout",
     "output_type": "stream",
     "text": [
      "max: 49.07397260273972\n",
      "min: 0.0\n"
     ]
    },
    {
     "data": {
      "text/plain": [
       "0.547945     156\n",
       "0.613699     152\n",
       "0.630137     151\n",
       "0.545205     151\n",
       "0.580822     150\n",
       "1.052055     143\n",
       "0.627397     143\n",
       "0.632877     140\n",
       "0.589041     138\n",
       "0.567123     138\n",
       "0.515068     137\n",
       "0.591781     137\n",
       "0.536986     136\n",
       "0.317808     136\n",
       "0.608219     135\n",
       "0.528767     134\n",
       "0.534247     133\n",
       "0.586301     132\n",
       "0.695890     131\n",
       "0.583562     131\n",
       "0.550685     130\n",
       "1.043836     130\n",
       "0.506849     128\n",
       "0.638356     128\n",
       "0.649315     127\n",
       "0.531507     127\n",
       "0.641096     126\n",
       "0.504110     126\n",
       "0.572603     125\n",
       "0.953425     125\n",
       "            ... \n",
       "45.693151      1\n",
       "32.849315      1\n",
       "24.295890      1\n",
       "40.216438      1\n",
       "35.602740      1\n",
       "35.509589      1\n",
       "27.673973      1\n",
       "17.827397      1\n",
       "44.789041      1\n",
       "36.391781      1\n",
       "27.424658      1\n",
       "26.427397      1\n",
       "27.101370      1\n",
       "37.832877      1\n",
       "34.635616      1\n",
       "27.024658      1\n",
       "31.252055      1\n",
       "35.652055      1\n",
       "40.912329      1\n",
       "29.454795      1\n",
       "35.213699      1\n",
       "22.465753      1\n",
       "42.980822      1\n",
       "44.832877      1\n",
       "24.304110      1\n",
       "29.452055      1\n",
       "40.408219      1\n",
       "34.950685      1\n",
       "41.252055      1\n",
       "27.435616      1\n",
       "Name: YEAS_EMPLOYED, Length: 12573, dtype: int64"
      ]
     },
     "execution_count": 146,
     "metadata": {},
     "output_type": "execute_result"
    }
   ],
   "source": [
    "print(\"max:\", app_train['YEAS_EMPLOYED'].max())\n",
    "print(\"min:\", app_train['YEAS_EMPLOYED'].min())\n",
    "app_train['YEAS_EMPLOYED'].value_counts()"
   ]
  },
  {
   "cell_type": "code",
   "execution_count": 147,
   "metadata": {},
   "outputs": [
    {
     "name": "stdout",
     "output_type": "stream",
     "text": [
      "(0.0, 5.0]      136309\n",
      "(5.0, 10.0]      64872\n",
      "(10.0, 15.0]     27549\n",
      "(15.0, 20.0]     10849\n",
      "(20.0, 25.0]      6243\n",
      "(25.0, 30.0]      3308\n",
      "(30.0, 35.0]      1939\n",
      "(35.0, 40.0]       832\n",
      "(40.0, 45.0]       210\n",
      "(45.0, 50.0]        24\n",
      "Name: YEAS_EMPLOYED_BINNED, dtype: int64\n"
     ]
    },
    {
     "data": {
      "text/html": [
       "<div>\n",
       "<style scoped>\n",
       "    .dataframe tbody tr th:only-of-type {\n",
       "        vertical-align: middle;\n",
       "    }\n",
       "\n",
       "    .dataframe tbody tr th {\n",
       "        vertical-align: top;\n",
       "    }\n",
       "\n",
       "    .dataframe thead th {\n",
       "        text-align: right;\n",
       "    }\n",
       "</style>\n",
       "<table border=\"1\" class=\"dataframe\">\n",
       "  <thead>\n",
       "    <tr style=\"text-align: right;\">\n",
       "      <th></th>\n",
       "      <th>TARGET</th>\n",
       "      <th>YEAS_EMPLOYED</th>\n",
       "      <th>YEAS_EMPLOYED_BINNED</th>\n",
       "    </tr>\n",
       "  </thead>\n",
       "  <tbody>\n",
       "    <tr>\n",
       "      <th>0</th>\n",
       "      <td>1</td>\n",
       "      <td>1.745205</td>\n",
       "      <td>(0.0, 5.0]</td>\n",
       "    </tr>\n",
       "    <tr>\n",
       "      <th>1</th>\n",
       "      <td>0</td>\n",
       "      <td>3.254795</td>\n",
       "      <td>(0.0, 5.0]</td>\n",
       "    </tr>\n",
       "    <tr>\n",
       "      <th>2</th>\n",
       "      <td>0</td>\n",
       "      <td>0.616438</td>\n",
       "      <td>(0.0, 5.0]</td>\n",
       "    </tr>\n",
       "    <tr>\n",
       "      <th>3</th>\n",
       "      <td>0</td>\n",
       "      <td>8.326027</td>\n",
       "      <td>(5.0, 10.0]</td>\n",
       "    </tr>\n",
       "    <tr>\n",
       "      <th>4</th>\n",
       "      <td>0</td>\n",
       "      <td>8.323288</td>\n",
       "      <td>(5.0, 10.0]</td>\n",
       "    </tr>\n",
       "  </tbody>\n",
       "</table>\n",
       "</div>"
      ],
      "text/plain": [
       "   TARGET  YEAS_EMPLOYED YEAS_EMPLOYED_BINNED\n",
       "0       1       1.745205           (0.0, 5.0]\n",
       "1       0       3.254795           (0.0, 5.0]\n",
       "2       0       0.616438           (0.0, 5.0]\n",
       "3       0       8.326027          (5.0, 10.0]\n",
       "4       0       8.323288          (5.0, 10.0]"
      ]
     },
     "execution_count": 147,
     "metadata": {},
     "output_type": "execute_result"
    }
   ],
   "source": [
    "bin_cut =  np.linspace(0, 50, 11)\n",
    "employed_data['YEAS_EMPLOYED_BINNED'] = pd.cut(employed_data['YEAS_EMPLOYED'], bins = bin_cut)\n",
    "print(employed_data['YEAS_EMPLOYED_BINNED'].value_counts())\n",
    "employed_data.head()"
   ]
  },
  {
   "cell_type": "code",
   "execution_count": 161,
   "metadata": {},
   "outputs": [
    {
     "name": "stdout",
     "output_type": "stream",
     "text": [
      "[(0.0, 5.0], (5.0, 10.0], (10.0, 15.0], (15.0, 20.0], (20.0, 25.0], (25.0, 30.0], (30.0, 35.0], (35.0, 40.0], (40.0, 45.0], (45.0, 50.0]]\n",
      "Categories (10, interval[float64]): [(0.0, 5.0] < (5.0, 10.0] < (10.0, 15.0] < (15.0, 20.0] ... (30.0, 35.0] < (35.0, 40.0] < (40.0, 45.0] < (45.0, 50.0]]\n"
     ]
    },
    {
     "data": {
      "image/png": "[encoded data removed]",
      "text/plain": [
       "<matplotlib.figure.Figure at 0x1d3c7cd5e48>"
      ]
     },
     "metadata": {},
     "output_type": "display_data"
    }
   ],
   "source": [
    "# 繪圖前先排序 / 分組\n",
    "\"\"\"\n",
    "Your Code Here\n",
    "\"\"\"\n",
    "year_group_sorted = employed_data['YEAS_EMPLOYED_BINNED'].unique().dropna().sort_values()\n",
    "print(year_group_sorted)\n",
    "\n",
    "plt.figure(figsize=(8,6))\n",
    "for i in range(len(year_group_sorted)):\n",
    "    sns.distplot(employed_data.loc[(employed_data['YEAS_EMPLOYED_BINNED'] == year_group_sorted[i]) & \\\n",
    "                              (employed_data['TARGET'] == 0), 'YEAS_EMPLOYED'], label = str(year_group_sorted[i]))\n",
    "    \n",
    "    sns.distplot(employed_data.loc[(employed_data['YEAS_EMPLOYED_BINNED'] == year_group_sorted[i]) & \\\n",
    "                              (employed_data['TARGET'] == 1), 'YEAS_EMPLOYED'], label = str(year_group_sorted[i]))\n",
    "plt.title('KDE with Age groups')\n",
    "plt.show()"
   ]
  },
  {
   "cell_type": "code",
   "execution_count": 162,
   "metadata": {
    "scrolled": true
   },
   "outputs": [
    {
     "data": {
      "image/png": "[encoded data removed]",
      "text/plain": [
       "<matplotlib.figure.Figure at 0x1d39b2c9fd0>"
      ]
     },
     "metadata": {},
     "output_type": "display_data"
    }
   ],
   "source": [
    "px = employed_data['YEAS_EMPLOYED_BINNED']\n",
    "py = app_train['TARGET']\n",
    "sns.barplot(px, py)\n",
    "\n",
    "# Plot labeling\n",
    "plt.xticks(rotation = 75); plt.xlabel('Age Group (years)'); plt.ylabel('Failure to Repay (%)')\n",
    "plt.title('Failure to Repay by Age Group');"
   ]
  },
  {
   "cell_type": "code",
   "execution_count": null,
   "metadata": {},
   "outputs": [],
   "source": []
  }
 ],
 "metadata": {
  "kernelspec": {
   "display_name": "Python 3",
   "language": "python",
   "name": "python3"
  },
  "language_info": {
   "codemirror_mode": {
    "name": "ipython",
    "version": 3
   },
   "file_extension": ".py",
   "mimetype": "text/x-python",
   "name": "python",
   "nbconvert_exporter": "python",
   "pygments_lexer": "ipython3",
   "version": "3.6.4"
  }
 },
 "nbformat": 4,
 "nbformat_minor": 2
}
